{
 "cells": [
  {
   "cell_type": "markdown",
   "metadata": {
    "id": "H9wADwK78DCz"
   },
   "source": [
    "# Proyek Analisis Data: Air Quality\n",
    "- **Nama:** Ika Triyana\n",
    "- **Email:** ikatriyana14secjui@gmail.com\n",
    "- **ID Dicoding:** ika_triyana"
   ]
  },
  {
   "cell_type": "markdown",
   "metadata": {
    "id": "eE0raob58DC0"
   },
   "source": [
    "## Menentukan Pertanyaan Bisnis"
   ]
  },
  {
   "cell_type": "markdown",
   "metadata": {
    "id": "GmQeQ5YF8DC0"
   },
   "source": [
    "- Apa tren bulanan polusi PM2.5 sepanjang tahun, dan apakah polusi lebih tinggi di bulan-bulan tertentu?\n",
    "- Bagaimana korelasi antar berbagai polutan (PM2.5, PM10, SO2, NO2, CO, O3)?\n",
    "- Bagaimana rata-rata tingkat PM2.5 dan PM10 di setiap stasiun dari 2013–2017?"
   ]
  },
  {
   "cell_type": "markdown",
   "metadata": {
    "id": "H-z4QGlO8DC1"
   },
   "source": [
    "## Import Semua Packages/Library yang Digunakan"
   ]
  },
  {
   "cell_type": "code",
   "execution_count": 29,
   "metadata": {
    "id": "FVYwaObI8DC1"
   },
   "outputs": [],
   "source": [
    "import numpy as np\n",
    "import pandas as pd\n",
    "import matplotlib.pyplot as plt\n",
    "import seaborn as sns\n",
    "import os"
   ]
  },
  {
   "cell_type": "markdown",
   "metadata": {
    "id": "h_Sh51Xy8DC1"
   },
   "source": [
    "## Data Wrangling"
   ]
  },
  {
   "cell_type": "markdown",
   "metadata": {
    "id": "sXU2GBYu8DC1"
   },
   "source": [
    "### Gathering Data"
   ]
  },
  {
   "cell_type": "code",
   "execution_count": 30,
   "metadata": {
    "id": "zjCBk1BI8DC1"
   },
   "outputs": [
    {
     "name": "stdout",
     "output_type": "stream",
     "text": [
      "File combined_data.csv belum ada. Menggabungkan file-file CSV...\n",
      "Gabungan data disimpan sebagai 'data/combined_data.csv'\n"
     ]
    }
   ],
   "source": [
    "os.makedirs(\"data\", exist_ok=True)\n",
    "\n",
    "combined_file_path = \"data/combined_data.csv\"\n",
    "\n",
    "if os.path.exists(combined_file_path):\n",
    "    print(\"File combined_data.csv sudah ada. Membaca dari file tersebut...\")\n",
    "    combined_df = pd.read_csv(combined_file_path)\n",
    "else:\n",
    "    print(\"File combined_data.csv belum ada. Menggabungkan file-file CSV...\")\n",
    "    aoti_df = pd.read_csv(\"data/PRSA_Data_Aotizhongxin_20130301-20170228.csv\")\n",
    "    changping_df = pd.read_csv(\"data/PRSA_Data_Changping_20130301-20170228.csv\")\n",
    "    dingling_df = pd.read_csv(\"data/PRSA_Data_Dingling_20130301-20170228.csv\")\n",
    "    dongsi_df = pd.read_csv(\"data/PRSA_Data_Dongsi_20130301-20170228.csv\")\n",
    "    guanyuan_df = pd.read_csv(\"data/PRSA_Data_Guanyuan_20130301-20170228.csv\")\n",
    "    gucheng_df = pd.read_csv(\"data/PRSA_Data_Gucheng_20130301-20170228.csv\")\n",
    "    huairou_df = pd.read_csv(\"data/PRSA_Data_Huairou_20130301-20170228.csv\")\n",
    "    nongzhanguan_df = pd.read_csv(\"data/PRSA_Data_Nongzhanguan_20130301-20170228.csv\")\n",
    "    shunyi_df = pd.read_csv(\"data/PRSA_Data_Shunyi_20130301-20170228.csv\")\n",
    "    tiantan_df = pd.read_csv(\"data/PRSA_Data_Tiantan_20130301-20170228.csv\")\n",
    "    wanliu_df = pd.read_csv(\"data/PRSA_Data_Wanliu_20130301-20170228.csv\")\n",
    "    wanshou_df = pd.read_csv(\"data/PRSA_Data_Wanshouxigong_20130301-20170228.csv\")\n",
    "\n",
    "    combined_df = pd.concat([\n",
    "        aoti_df, changping_df, dingling_df, dongsi_df, guanyuan_df, gucheng_df,\n",
    "        huairou_df, nongzhanguan_df, shunyi_df, tiantan_df, wanliu_df, wanshou_df\n",
    "    ], ignore_index=True)\n",
    "\n",
    "    combined_df.to_csv(combined_file_path, index=False)\n",
    "    print(f\"Gabungan data disimpan sebagai '{combined_file_path}'\")"
   ]
  },
  {
   "cell_type": "markdown",
   "metadata": {
    "id": "MMi6xGaDkbCi"
   },
   "source": [
    "**Insight:**\n",
    "- Data mencakup 12 lokasi (stasiun) pengukuran berbeda untuk analisis spasial kualitas udara di seluruh kota Beijing.\n",
    "- Periode pengambilan data panjang, sekitar 4 tahun lebih, cocok untuk analisis tren waktu.\n",
    "- Nomor urut (No) menunjukkan posisi data dalam urutan kronologis.\n",
    "- Kolom tahun, bulan, hari, dan jam merepresentasikan waktu pengambilan data secara detail.\n",
    "- PM2.5 dan PM10 adalah konsentrasi partikel polutan di udara yang diukur secara kuantitatif.\n",
    "- SO2, NO2, CO, dan O3 mencatat tingkat gas-gas polutan penting dalam udara.\n",
    "- Temperatur (TEMP) menunjukkan suhu udara pada saat pengukuran (derajat Celsius).\n",
    "- Tekanan udara (PRES) mengindikasikan kondisi atmosferik yang memengaruhi penyebaran polutan.\n",
    "- Dew Point (DEWP) mengukur kelembapan udara yang berkaitan dengan tingkat kejenuhan uap air.\n",
    "- Curah hujan (RAIN) merekam intensitas hujan selama pengukuran.\n",
    "- Arah angin (wd) menginformasikan dari mana angin bertiup, penting untuk analisis penyebaran polutan.\n",
    "- Kecepatan angin (WSPM) mencatat seberapa cepat angin bertiup pada saat pengukuran.\n",
    "- Nama stasiun (station) menunjukkan lokasi fisik pengambilan data kualitas udara dan cuaca.\n",
    "- Data dari berbagai sumber (stasiun) digabung menjadi satu DataFrame.\n",
    "- File gabungan disimpan dalam folder 'data' dengan nama combined_data.csv."
   ]
  },
  {
   "cell_type": "markdown",
   "metadata": {
    "id": "FHSiqaZp8DC1"
   },
   "source": [
    "### Assessing Data"
   ]
  },
  {
   "cell_type": "code",
   "execution_count": 35,
   "metadata": {
    "id": "ax-3tEjc9Cj1"
   },
   "outputs": [
    {
     "name": "stdout",
     "output_type": "stream",
     "text": [
      "Jumlah baris dengan datetime null: 0\n",
      "Info Dataset:\n",
      "<class 'pandas.core.frame.DataFrame'>\n",
      "RangeIndex: 420768 entries, 0 to 420767\n",
      "Data columns (total 19 columns):\n",
      " #   Column    Non-Null Count   Dtype         \n",
      "---  ------    --------------   -----         \n",
      " 0   No        420768 non-null  int64         \n",
      " 1   year      420768 non-null  int64         \n",
      " 2   month     420768 non-null  int64         \n",
      " 3   day       420768 non-null  int64         \n",
      " 4   hour      420768 non-null  int64         \n",
      " 5   PM2.5     412029 non-null  float64       \n",
      " 6   PM10      414319 non-null  float64       \n",
      " 7   SO2       411747 non-null  float64       \n",
      " 8   NO2       408652 non-null  float64       \n",
      " 9   CO        400067 non-null  float64       \n",
      " 10  O3        407491 non-null  float64       \n",
      " 11  TEMP      420370 non-null  float64       \n",
      " 12  PRES      420375 non-null  float64       \n",
      " 13  DEWP      420365 non-null  float64       \n",
      " 14  RAIN      420378 non-null  float64       \n",
      " 15  wd        418946 non-null  object        \n",
      " 16  WSPM      420450 non-null  float64       \n",
      " 17  station   420768 non-null  object        \n",
      " 18  datetime  420768 non-null  datetime64[ns]\n",
      "dtypes: datetime64[ns](1), float64(11), int64(5), object(2)\n",
      "memory usage: 61.0+ MB\n",
      "None\n",
      "\n",
      "Statistik Deskriptif:\n",
      "                  No           year          month            day  \\\n",
      "count  420768.000000  420768.000000  420768.000000  420768.000000   \n",
      "mean    17532.500000    2014.662560       6.522930      15.729637   \n",
      "min         1.000000    2013.000000       1.000000       1.000000   \n",
      "25%      8766.750000    2014.000000       4.000000       8.000000   \n",
      "50%     17532.500000    2015.000000       7.000000      16.000000   \n",
      "75%     26298.250000    2016.000000      10.000000      23.000000   \n",
      "max     35064.000000    2017.000000      12.000000      31.000000   \n",
      "std     10122.116943       1.177198       3.448707       8.800102   \n",
      "\n",
      "                hour          PM2.5           PM10            SO2  \\\n",
      "count  420768.000000  412029.000000  414319.000000  411747.000000   \n",
      "mean       11.500000      79.793428     104.602618      15.830835   \n",
      "min         0.000000       2.000000       2.000000       0.285600   \n",
      "25%         5.750000      20.000000      36.000000       3.000000   \n",
      "50%        11.500000      55.000000      82.000000       7.000000   \n",
      "75%        17.250000     111.000000     145.000000      20.000000   \n",
      "max        23.000000     999.000000     999.000000     500.000000   \n",
      "std         6.922195      80.822391      91.772426      21.650603   \n",
      "\n",
      "                 NO2             CO             O3           TEMP  \\\n",
      "count  408652.000000  400067.000000  407491.000000  420370.000000   \n",
      "mean       50.638586    1230.766454      57.372271      13.538976   \n",
      "min         1.026500     100.000000       0.214200     -19.900000   \n",
      "25%        23.000000     500.000000      11.000000       3.100000   \n",
      "50%        43.000000     900.000000      45.000000      14.500000   \n",
      "75%        71.000000    1500.000000      82.000000      23.300000   \n",
      "max       290.000000   10000.000000    1071.000000      41.600000   \n",
      "std        35.127912    1160.182716      56.661607      11.436139   \n",
      "\n",
      "                PRES           DEWP           RAIN           WSPM  \\\n",
      "count  420375.000000  420365.000000  420378.000000  420450.000000   \n",
      "mean     1010.746982       2.490822       0.064476       1.729711   \n",
      "min       982.400000     -43.400000       0.000000       0.000000   \n",
      "25%      1002.300000      -8.900000       0.000000       0.900000   \n",
      "50%      1010.400000       3.100000       0.000000       1.400000   \n",
      "75%      1019.000000      15.100000       0.000000       2.200000   \n",
      "max      1042.800000      29.100000      72.500000      13.200000   \n",
      "std        10.474055      13.793847       0.821004       1.246386   \n",
      "\n",
      "                            datetime  \n",
      "count                         420768  \n",
      "mean   2015-03-01 11:30:00.000001024  \n",
      "min              2013-03-01 00:00:00  \n",
      "25%              2014-03-01 05:45:00  \n",
      "50%              2015-03-01 11:30:00  \n",
      "75%              2016-02-29 17:15:00  \n",
      "max              2017-02-28 23:00:00  \n",
      "std                              NaN  \n",
      "\n",
      "Missing Values per Kolom:\n",
      "No              0\n",
      "year            0\n",
      "month           0\n",
      "day             0\n",
      "hour            0\n",
      "PM2.5        8739\n",
      "PM10         6449\n",
      "SO2          9021\n",
      "NO2         12116\n",
      "CO          20701\n",
      "O3          13277\n",
      "TEMP          398\n",
      "PRES          393\n",
      "DEWP          403\n",
      "RAIN          390\n",
      "wd           1822\n",
      "WSPM          318\n",
      "station         0\n",
      "datetime        0\n",
      "dtype: int64\n",
      "\n",
      "Jumlah Duplikasi Baris: 0\n",
      "\n",
      "Unique Values di Kolom 'station':\n",
      "['Aotizhongxin' 'Changping' 'Dingling' 'Dongsi' 'Guanyuan' 'Gucheng'\n",
      " 'Huairou' 'Nongzhanguan' 'Shunyi' 'Tiantan' 'Wanliu' 'Wanshouxigong']\n",
      "\n",
      "Statistik PM2.5:\n",
      "count    412029.000000\n",
      "mean         79.793428\n",
      "std          80.822391\n",
      "min           2.000000\n",
      "25%          20.000000\n",
      "50%          55.000000\n",
      "75%         111.000000\n",
      "max         999.000000\n",
      "Name: PM2.5, dtype: float64\n",
      "\n",
      "Statistik CO:\n",
      "count    400067.000000\n",
      "mean       1230.766454\n",
      "std        1160.182716\n",
      "min         100.000000\n",
      "25%         500.000000\n",
      "50%         900.000000\n",
      "75%        1500.000000\n",
      "max       10000.000000\n",
      "Name: CO, dtype: float64\n",
      "\n",
      "Deteksi Outlier Berdasarkan Threshold:\n",
      "Jumlah data PM2.5 > 500: 933\n",
      "Jumlah data PM10 > 500: 1967\n",
      "Jumlah data SO2 > 500: 0\n",
      "Jumlah data NO2 > 300: 0\n",
      "Jumlah data CO > 5000: 6991\n",
      "Jumlah data O3 > 300: 605\n",
      "\n",
      "Data sample dengan kolom datetime:\n",
      "             datetime  PM2.5  PM10   SO2   NO2     CO    O3  TEMP  \\\n",
      "0 2013-03-01 00:00:00    4.0   4.0   4.0   7.0  300.0  77.0  -0.7   \n",
      "1 2013-03-01 01:00:00    8.0   8.0   4.0   7.0  300.0  77.0  -1.1   \n",
      "2 2013-03-01 02:00:00    7.0   7.0   5.0  10.0  300.0  73.0  -1.1   \n",
      "3 2013-03-01 03:00:00    6.0   6.0  11.0  11.0  300.0  72.0  -1.4   \n",
      "4 2013-03-01 04:00:00    3.0   3.0  12.0  12.0  300.0  72.0  -2.0   \n",
      "\n",
      "        station  \n",
      "0  Aotizhongxin  \n",
      "1  Aotizhongxin  \n",
      "2  Aotizhongxin  \n",
      "3  Aotizhongxin  \n",
      "4  Aotizhongxin  \n",
      "\n",
      "Rata-rata PM2.5 per Bulan:\n",
      "month\n",
      "1      93.667037\n",
      "2      87.572234\n",
      "3      94.660678\n",
      "4      72.734890\n",
      "5      63.105338\n",
      "6      69.091971\n",
      "7      71.744853\n",
      "8      53.473014\n",
      "9      61.478105\n",
      "10     91.726800\n",
      "11     93.331519\n",
      "12    104.581244\n",
      "Name: PM2.5, dtype: float64\n",
      "\n",
      "Matriks Korelasi Antar Polutan:\n",
      "          PM2.5      PM10       SO2       NO2        CO        O3\n",
      "PM2.5  1.000000  0.884380  0.482354  0.666948  0.789998 -0.149697\n",
      "PM10   0.884380  1.000000  0.462651  0.652193  0.702363 -0.111294\n",
      "SO2    0.482354  0.462651  1.000000  0.499496  0.535750 -0.165341\n",
      "NO2    0.666948  0.652193  0.499496  1.000000  0.705500 -0.471587\n",
      "CO     0.789998  0.702363  0.535750  0.705500  1.000000 -0.313012\n",
      "O3    -0.149697 -0.111294 -0.165341 -0.471587 -0.313012  1.000000\n",
      "\n",
      "Rata-rata PM2.5 dan PM10 per Stasiun (2013-2017):\n",
      "                   PM2.5        PM10\n",
      "station                             \n",
      "Aotizhongxin   82.773611  110.060391\n",
      "Changping      71.099743   94.657871\n",
      "Dingling       65.989497   83.739723\n",
      "Dongsi         86.194297  110.336742\n",
      "Guanyuan       82.933372  109.023303\n",
      "Gucheng        83.852089  118.861978\n",
      "Huairou        69.626367   91.482690\n",
      "Nongzhanguan   84.838483  108.991096\n",
      "Shunyi         79.491602   98.737026\n",
      "Tiantan        82.164911  106.363672\n",
      "Wanliu         83.374716  110.464618\n",
      "Wanshouxigong  85.024136  112.223459\n"
     ]
    }
   ],
   "source": [
    "combined_df = pd.read_csv(\"data/combined_data.csv\")\n",
    "\n",
    "# Membuat kolom datetime dari year, month, day, hour\n",
    "combined_df['datetime'] = pd.to_datetime(\n",
    "    combined_df[['year', 'month', 'day', 'hour']],\n",
    "    errors='coerce',\n",
    "    format='%Y-%m-%d %H'\n",
    ")\n",
    "\n",
    "# Cek data dengan datetime null\n",
    "null_datetime_count = combined_df['datetime'].isnull().sum()\n",
    "print(f\"Jumlah baris dengan datetime null: {null_datetime_count}\")\n",
    "\n",
    "print(\"Info Dataset:\")\n",
    "print(combined_df.info())\n",
    "\n",
    "print(\"\\nStatistik Deskriptif:\")\n",
    "print(combined_df.describe())\n",
    "\n",
    "print(\"\\nMissing Values per Kolom:\")\n",
    "print(combined_df.isnull().sum())\n",
    "\n",
    "duplicate_count = combined_df.duplicated().sum()\n",
    "print(f\"\\nJumlah Duplikasi Baris: {duplicate_count}\")\n",
    "\n",
    "print(\"\\nUnique Values di Kolom 'station':\")\n",
    "print(combined_df['station'].unique())\n",
    "\n",
    "print(\"\\nStatistik PM2.5:\")\n",
    "print(combined_df['PM2.5'].describe())\n",
    "\n",
    "print(\"\\nStatistik CO:\")\n",
    "print(combined_df['CO'].describe())\n",
    "\n",
    "# Deteksi outlier berdasarkan threshold untuk berbagai polutan\n",
    "outlier_thresholds = {\n",
    "    'PM2.5': 500,\n",
    "    'PM10': 500,\n",
    "    'SO2': 500,\n",
    "    'NO2': 300,\n",
    "    'CO': 5000,\n",
    "    'O3': 300\n",
    "}\n",
    "\n",
    "print(\"\\nDeteksi Outlier Berdasarkan Threshold:\")\n",
    "for pollutant, threshold in outlier_thresholds.items():\n",
    "    outliers = combined_df[combined_df[pollutant] > threshold]\n",
    "    print(f\"Jumlah data {pollutant} > {threshold}: {len(outliers)}\")\n",
    "\n",
    "print(\"\\nData sample dengan kolom datetime:\")\n",
    "print(combined_df[['datetime', 'PM2.5', 'PM10', 'SO2', 'NO2', 'CO', 'O3', 'TEMP', 'station']].head())\n",
    "\n",
    "# ------------------------------------------------\n",
    "# Pertanyaan 1: Tren bulanan PM2.5\n",
    "combined_df['month'] = combined_df['datetime'].dt.month\n",
    "monthly_pm25 = combined_df.groupby('month')['PM2.5'].mean()\n",
    "\n",
    "print(\"\\nRata-rata PM2.5 per Bulan:\")\n",
    "print(monthly_pm25)\n",
    "\n",
    "# ------------------------------------------------\n",
    "# Pertanyaan 2: Korelasi antar polutan\n",
    "pollutants = ['PM2.5', 'PM10', 'SO2', 'NO2', 'CO', 'O3']\n",
    "corr_matrix = combined_df[pollutants].corr()\n",
    "\n",
    "print(\"\\nMatriks Korelasi Antar Polutan:\")\n",
    "print(corr_matrix)\n",
    "\n",
    "# ------------------------------------------------\n",
    "# Pertanyaan 3: Rata-rata PM2.5 dan PM10 per stasiun\n",
    "avg_pm_by_station = combined_df.groupby('station')[['PM2.5', 'PM10']].mean()\n",
    "\n",
    "print(\"\\nRata-rata PM2.5 dan PM10 per Stasiun (2013-2017):\")\n",
    "print(avg_pm_by_station)\n"
   ]
  },
  {
   "cell_type": "markdown",
   "metadata": {
    "id": "7dtxhAPrkhPL"
   },
   "source": [
    "**Insight:**\n",
    "\n",
    "- **Tidak ada missing value pada kolom `datetime`**, memastikan data waktu lengkap untuk analisis temporal.  \n",
    "- Dataset cukup besar dengan **420.768 baris** dan **19 kolom**, mencakup banyak variabel terkait kualitas udara dan kondisi cuaca.  \n",
    "- Terdapat beberapa kolom dengan missing values terutama pada polutan seperti:  \n",
    "  - PM2.5 (8.739 missing)  \n",
    "  - PM10 (6.449 missing)  \n",
    "  - SO2 (9.021 missing)  \n",
    "  - NO2 (12.116 missing)\n",
    "  - CO (20.701 missing)  \n",
    "  - O3 (13.277 missing)  \n",
    "  Juga missing kecil pada kolom cuaca seperti TEMP, PRES, DEWP, RAIN, dan angin (wd, WSPM).  \n",
    "- Tidak ditemukan baris duplikat, sehingga data unik dan bersih dari pengulangan.  \n",
    "- Data mencakup 12 stasiun berbeda di Beijing, konsisten dengan informasi lokasi pengambilan data.  \n",
    "- Distribusi waktu data:  \n",
    "  - Tahun dari 2013 sampai 2017 dengan distribusi data yang cukup merata.  \n",
    "  - Data waktu terdiri dari tahun, bulan, hari, dan jam secara lengkap.  \n",
    "- Statistik deskriptif polutan menunjukkan:  \n",
    "  - PM2.5 rata-rata sekitar 79.8, dengan nilai maksimum ekstrem 999 yang menandakan potensi outlier.  \n",
    "  - CO juga memiliki nilai maksimum sangat tinggi (10.000), dan terdapat ribuan data melebihi threshold normal (outlier).  \n",
    "- Variabel cuaca (TEMP, PRES, DEWP, RAIN, WSPM) memiliki nilai valid dan cukup lengkap, dengan beberapa missing minor.  \n",
    "- Korelasi antar polutan cukup kuat positif, misalnya:  \n",
    "  - PM2.5 dan PM10 sangat berkorelasi (0.88)  \n",
    "  - PM2.5 juga berkorelasi cukup kuat dengan NO2 dan CO.  \n",
    "  - O3 cenderung berkorrelasi negatif dengan polutan lain, menandakan dinamika kimia atmosfer yang berbeda.  \n",
    "- Rata-rata PM2.5 per bulan menunjukkan tren musiman dengan puncak polusi pada bulan Desember (104.6) dan penurunan pada musim panas (Agustus sekitar 53.5).  \n",
    "- Rata-rata PM2.5 dan PM10 per stasiun menunjukkan variasi spasial, dengan stasiun seperti Dongsi dan Gucheng memiliki konsentrasi polutan lebih tinggi dibanding stasiun lain.\n"
   ]
  },
  {
   "cell_type": "markdown",
   "metadata": {
    "id": "EhN5R4hr8DC1"
   },
   "source": [
    "### Cleaning Data"
   ]
  },
  {
   "cell_type": "code",
   "execution_count": 34,
   "metadata": {
    "id": "jVnYpprE9Evz"
   },
   "outputs": [
    {
     "name": "stdout",
     "output_type": "stream",
     "text": [
      "✅ Semua kolom penting tersedia.\n",
      "Dropping outliers in PM2.5: 0 rows removed\n",
      "Dropping outliers in PM10: 0 rows removed\n",
      "Dropping outliers in SO2: 0 rows removed\n",
      "Dropping outliers in NO2: 0 rows removed\n",
      "Dropping outliers in CO: 0 rows removed\n",
      "Dropping outliers in O3: 0 rows removed\n",
      "\n",
      "✅ Data setelah cleaning disimpan di 'dashboard/main_data.csv'\n",
      "✅ Tidak ada missing value pada data yang disimpan.\n",
      "✅ Tidak ada outlier pada data yang disimpan.\n"
     ]
    }
   ],
   "source": [
    "thresholds = {\n",
    "    'PM2.5': 500,\n",
    "    'PM10': 500,\n",
    "    'SO2': 300,\n",
    "    'NO2': 300,\n",
    "    'CO': 5000,\n",
    "    'O3': 500\n",
    "}\n",
    "\n",
    "required_columns = ['PM2.5', 'PM10', 'TEMP', 'PRES', 'DEWP']\n",
    "\n",
    "missing_required = [col for col in required_columns if col not in combined_df.columns]\n",
    "if missing_required:\n",
    "    print(f\"Kolom penting hilang: {missing_required}\")\n",
    "else:\n",
    "    print(\"Semua kolom penting tersedia.\")\n",
    "\n",
    "# Hapus outlier berdasarkan threshold\n",
    "for col, max_val in thresholds.items():\n",
    "    if col in combined_df.columns:\n",
    "        before = len(combined_df)\n",
    "        combined_df = combined_df[combined_df[col] <= max_val]\n",
    "        after = len(combined_df)\n",
    "        print(f\"Dropping outliers in {col}: {before - after} rows removed\")\n",
    "    else:\n",
    "        print(f\"Kolom {col} tidak ditemukan, dilewati.\")\n",
    "\n",
    "# Hapus baris dengan PM2.5 atau PM10 kosong\n",
    "if 'PM2.5' in combined_df.columns and 'PM10' in combined_df.columns:\n",
    "    combined_df = combined_df.dropna(subset=['PM2.5', 'PM10'])\n",
    "\n",
    "# Isi missing values\n",
    "for col in ['TEMP', 'PRES', 'DEWP', 'RAIN', 'WSPM']:\n",
    "    if col in combined_df.columns:\n",
    "        combined_df[col] = combined_df[col].ffill()\n",
    "        if combined_df[col].isnull().any():\n",
    "            combined_df[col] = combined_df[col].fillna(combined_df[col].mean())\n",
    "\n",
    "# Tangani kolom wd\n",
    "if 'wd' in combined_df.columns:\n",
    "    null_rate = combined_df['wd'].isnull().mean()\n",
    "    if null_rate < 0.1:\n",
    "        combined_df['wd'] = combined_df['wd'].fillna(combined_df['wd'].mode()[0])\n",
    "    else:\n",
    "        combined_df = combined_df.drop(columns=['wd'])\n",
    "        print(\"Kolom 'wd' dihapus karena terlalu banyak missing value\")\n",
    "else:\n",
    "    print(\"Kolom 'wd' tidak ditemukan, dilewati\")\n",
    "\n",
    "combined_df = combined_df.reset_index(drop=True)\n",
    "\n",
    "os.makedirs(\"dashboard\", exist_ok=True)\n",
    "output_file = \"dashboard/main_data.csv\"\n",
    "combined_df.to_csv(output_file, index=False)\n",
    "print(f\"\\n Data setelah cleaning disimpan di '{output_file}'\")\n",
    "\n",
    "# === Validasi ===\n",
    "df_check = pd.read_csv(output_file)\n",
    "\n",
    "# Cek missing values\n",
    "missing_counts = df_check.isnull().sum()\n",
    "total_missing = missing_counts.sum()\n",
    "if total_missing == 0:\n",
    "    print(\"Tidak ada missing value pada data yang disimpan.\")\n",
    "else:\n",
    "    print(\"Masih terdapat missing value:\")\n",
    "    print(missing_counts[missing_counts > 0])\n",
    "\n",
    "# Cek outlier\n",
    "outlier_counts = {}\n",
    "for col, max_val in thresholds.items():\n",
    "    if col in df_check.columns:\n",
    "        outlier_count = (df_check[col] > max_val).sum()\n",
    "        if outlier_count > 0:\n",
    "            outlier_counts[col] = outlier_count\n",
    "\n",
    "if not outlier_counts:\n",
    "    print(\"Tidak ada outlier pada data yang disimpan.\")\n",
    "else:\n",
    "    print(\"Masih terdapat outlier pada kolom berikut:\")\n",
    "    for col, count in outlier_counts.items():\n",
    "        print(f\"{col}: {count} data di atas threshold\")\n"
   ]
  },
  {
   "cell_type": "markdown",
   "metadata": {
    "id": "Q_5ejIqckiSP"
   },
   "source": [
    "**Insight:**\n",
    "\n",
    "- Semua kolom penting (`PM2.5`, `PM10`, `TEMP`, `PRES`, `DEWP`) tersedia dalam dataset, sehingga proses cleaning dapat dilakukan dengan lengkap tanpa kehilangan variabel kunci.  \n",
    "- Tidak ditemukan baris yang dihapus akibat outlier berdasarkan threshold yang sudah ditetapkan untuk semua polutan (`PM2.5`, `PM10`, `SO2`, `NO2`, `CO`, `O3`). Ini menandakan data sudah bersih dari nilai ekstrem yang berlebihan setelah tahap assessing atau sebelumnya sudah dibersihkan.  \n",
    "- Baris dengan nilai kosong pada `PM2.5` dan `PM10` sudah dihapus untuk menjaga kualitas data dan validitas analisis.  \n",
    "- Missing values pada variabel cuaca (`TEMP`, `PRES`, `DEWP`, `RAIN`, dan `WSPM`) telah ditangani dengan metode forward-fill dan jika masih ada missing diisi dengan nilai rata-rata kolom tersebut, sehingga tidak ada nilai kosong tersisa.  \n",
    "- Kolom arah angin (`wd`) memiliki tingkat missing value rendah (<10%), sehingga missing-nya diisi dengan modus (nilai paling sering muncul), menjaga keberlanjutan data variabel ini. Jika missing lebih dari 10%, kolom tersebut akan dihapus untuk menghindari bias akibat terlalu banyak data hilang.  \n",
    "- Setelah proses cleaning, data sudah bersih tanpa missing value dan tanpa outlier sesuai threshold yang ditetapkan.  \n",
    "- Data hasil cleaning disimpan rapi pada file `dashboard/main_data.csv`. \n"
   ]
  },
  {
   "cell_type": "markdown",
   "metadata": {
    "id": "gp-Y6wU38DC1"
   },
   "source": [
    "## Exploratory Data Analysis (EDA)"
   ]
  },
  {
   "cell_type": "markdown",
   "metadata": {
    "id": "MW7WF2kr8DC1"
   },
   "source": [
    "### Explore ..."
   ]
  },
  {
   "cell_type": "code",
   "execution_count": null,
   "metadata": {
    "id": "e9CQCZjk8DC2"
   },
   "outputs": [],
   "source": []
  },
  {
   "cell_type": "markdown",
   "metadata": {
    "id": "th_Lzl2Fkj9O"
   },
   "source": [
    "**Insight:**\n",
    "- xxx\n",
    "- xxx"
   ]
  },
  {
   "cell_type": "markdown",
   "metadata": {
    "id": "zsyZjqak8DC2"
   },
   "source": [
    "## Visualization & Explanatory Analysis"
   ]
  },
  {
   "cell_type": "markdown",
   "metadata": {
    "id": "HZxOiQ6n8DC2"
   },
   "source": [
    "### Pertanyaan 1:"
   ]
  },
  {
   "cell_type": "code",
   "execution_count": null,
   "metadata": {
    "id": "1swJUdAD8DC2"
   },
   "outputs": [],
   "source": []
  },
  {
   "cell_type": "markdown",
   "metadata": {
    "id": "DgHI7CiU8DC2"
   },
   "source": [
    "### Pertanyaan 2:"
   ]
  },
  {
   "cell_type": "code",
   "execution_count": null,
   "metadata": {
    "id": "Go0lCsvO8DC2"
   },
   "outputs": [],
   "source": []
  },
  {
   "cell_type": "markdown",
   "metadata": {
    "id": "_0-36BDLklRg"
   },
   "source": [
    "**Insight:**\n",
    "- xxx\n",
    "- xxx"
   ]
  },
  {
   "cell_type": "markdown",
   "metadata": {
    "id": "9y4VUsmcYNZ5"
   },
   "source": [
    "## Analisis Lanjutan (Opsional)"
   ]
  },
  {
   "cell_type": "code",
   "execution_count": null,
   "metadata": {
    "id": "iWhnzsJGYUCO"
   },
   "outputs": [],
   "source": []
  },
  {
   "cell_type": "markdown",
   "metadata": {
    "id": "_WeHlCeX8DC2"
   },
   "source": [
    "## Conclusion"
   ]
  },
  {
   "cell_type": "markdown",
   "metadata": {
    "id": "ZTcyR48Y8DC2"
   },
   "source": [
    "- Conclution pertanyaan 1\n",
    "- Conclution pertanyaan 2"
   ]
  },
  {
   "cell_type": "code",
   "execution_count": null,
   "metadata": {},
   "outputs": [],
   "source": []
  },
  {
   "cell_type": "code",
   "execution_count": null,
   "metadata": {},
   "outputs": [],
   "source": []
  },
  {
   "cell_type": "code",
   "execution_count": null,
   "metadata": {},
   "outputs": [],
   "source": []
  },
  {
   "cell_type": "code",
   "execution_count": null,
   "metadata": {},
   "outputs": [],
   "source": []
  }
 ],
 "metadata": {
  "colab": {
   "provenance": []
  },
  "kernelspec": {
   "display_name": "Python 3 (ipykernel)",
   "language": "python",
   "name": "python3"
  },
  "language_info": {
   "codemirror_mode": {
    "name": "ipython",
    "version": 3
   },
   "file_extension": ".py",
   "mimetype": "text/x-python",
   "name": "python",
   "nbconvert_exporter": "python",
   "pygments_lexer": "ipython3",
   "version": "3.12.0"
  },
  "vscode": {
   "interpreter": {
    "hash": "972b3bf27e332e87b5379f2791f6ef9dfc79c71018c370b0d7423235e20fe4d7"
   }
  }
 },
 "nbformat": 4,
 "nbformat_minor": 4
}
